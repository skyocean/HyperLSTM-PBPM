{
 "cells": [
  {
   "cell_type": "code",
   "execution_count": null,
   "id": "270b9b40-830d-45cf-ba74-c96a6ceb6e87",
   "metadata": {},
   "outputs": [],
   "source": [
    "%reload_ext autoreload\n",
    "%autoreload 2 \n",
    "    \n",
    "import pandas as pd\n",
    "import numpy as np\n",
    "import keras_tuner as kt\n",
    "from keras_tuner import RandomSearch, HyperModel, Hyperband, HyperParameters\n",
    "from tensorflow.keras.callbacks import EarlyStopping\n",
    "\n",
    "from DataEncoder import encode_pad_event, encode_pad_sequence, encode_y, encode_textual_event\n",
    "from DurationEmbedding import duration_embedding_layer\n",
    "from FeatureEmbedding import feature_embedding_layer\n",
    "#from DurationEmbeddingLSTM import DurationEmbeddingLSTMModel, print_best_hp_duration\n",
    "from TextFeatureDurationEmbeddingLSTMIm import TextFeatureDurationEmbeddingLSTMModel, print_best_hp_duration_text\n",
    "\n",
    "from sklearn.model_selection import train_test_split\n",
    "from sklearn.metrics import confusion_matrix, classification_report, f1_score"
   ]
  },
  {
   "cell_type": "code",
   "execution_count": null,
   "id": "bc33c0e1-3f2c-498d-b1e1-ac11f2cc6eba",
   "metadata": {},
   "outputs": [],
   "source": [
    "event = pd.read_csv(\"../input/Event_Feature_pro.csv\")\n",
    "sequence = pd.read_csv(\"../input/Sequence_Feature_pro.csv\")\n",
    "event_duration_embedding = pd.read_csv(\"../output/Event_Duration_Embedding_pro.csv\")\n",
    "event_feature_embedding = pd.read_csv(\"../output/Event_feature_Embedding_pro.csv\")"
   ]
  },
  {
   "cell_type": "code",
   "execution_count": null,
   "id": "b42c468e-a085-420f-81b8-7b8407f89824",
   "metadata": {},
   "outputs": [],
   "source": [
    "y_col = sequence.result\n",
    "y_encode = encode_y(y_col)"
   ]
  },
  {
   "cell_type": "code",
   "execution_count": null,
   "id": "af0a6672-59b9-42be-a400-075751571421",
   "metadata": {},
   "outputs": [],
   "source": [
    "cat_col_event = ['Resource', 'outcome', \"stopcode\"]\n",
    "num_col_event = ['net_promotor_score', 'creditscore', 'rate_charged']\n",
    "case_index = 'Case ID'\n",
    "\n",
    "event_encode = encode_pad_event(event, cat_col_event, num_col_event, case_index, cat_mask = True, num_mask = True, eos = False)"
   ]
  },
  {
   "cell_type": "code",
   "execution_count": null,
   "id": "3a086ae1-ee2a-48f9-99c7-ffc9250c56a9",
   "metadata": {},
   "outputs": [],
   "source": [
    "cat_col_seq = ['plan']\n",
    "num_col_seq = ['age', 'coverage_numeric', 'length_of_stay']\n",
    "sequence_encode = encode_pad_sequence(sequence, cat_col_seq, num_col_seq,  cat_mask = False, num_mask = False)"
   ]
  },
  {
   "cell_type": "code",
   "execution_count": null,
   "id": "aac51723-b21f-41d1-b2a3-a9ce00ef9a3d",
   "metadata": {},
   "outputs": [],
   "source": [
    "event_duration_embedding_names = event_duration_embedding.columns.to_list()\n",
    "embedding_duration_cols_names = event_duration_embedding_names[7:]\n",
    "duration_embedding_encode = duration_embedding_layer(event_duration_embedding, embedding_duration_cols_names, case_index, eos = False)"
   ]
  },
  {
   "cell_type": "code",
   "execution_count": null,
   "id": "94aedc27-66f1-4df6-ad99-47e4d3faccdf",
   "metadata": {},
   "outputs": [],
   "source": [
    "event_feature_embedding_names = event_feature_embedding.columns.to_list()\n",
    "embedding_feature_cols_names = event_feature_embedding_names[5:]\n",
    "feature_embedding_encode = feature_embedding_layer(event_feature_embedding, embedding_feature_cols_names, case_index, eos = False)"
   ]
  },
  {
   "cell_type": "code",
   "execution_count": null,
   "id": "16231548-ec67-476c-850b-b5e7053a6015",
   "metadata": {},
   "outputs": [],
   "source": [
    "verb_encode, verb_size = encode_textual_event(event, 'Activity_verb', case_index, eos = False)\n",
    "dec_encode, dec_size = encode_textual_event(event, 'Activity_Dec', case_index, eos = False)"
   ]
  },
  {
   "cell_type": "code",
   "execution_count": null,
   "id": "f3dbda86-8221-41a7-89a2-6c5f34eda9b3",
   "metadata": {},
   "outputs": [],
   "source": [
    "# Define the input shape (sequence_length, number_of_features)\n",
    "event_input_shape = (event_encode.shape[1], event_encode.shape[2])\n",
    "\n",
    "# Define the number of classes \n",
    "num_classes = y_encode.shape[1]\n",
    "\n",
    "# number of sequence features\n",
    "num_sequence_features = sequence_encode.shape[1]\n",
    "\n",
    "duration_embedding_shape = (duration_embedding_encode.shape[1], duration_embedding_encode.shape[2])\n",
    "feature_embedding_shape = (feature_embedding_encode.shape[1], feature_embedding_encode.shape[2])\n",
    "\n",
    "# make sure the event_encode.shape[1] = duration(feature)_embedding_encode.shape[1] = verb(dec)encode.shape[1] \n",
    "sequence_size = event_encode.shape[1]"
   ]
  },
  {
   "cell_type": "code",
   "execution_count": null,
   "id": "671339e3-2f61-4e4a-838f-94fc349a3b68",
   "metadata": {},
   "outputs": [],
   "source": [
    "# Split indices for train and test\n",
    "train_indices, test_indices = train_test_split(np.arange(len(y_encode)), test_size=0.2, stratify=y_encode, random_state=42)\n",
    "\n",
    "# Split the data\n",
    "train_event_features = event_encode[train_indices]\n",
    "test_event_features = event_encode[test_indices]\n",
    "\n",
    "train_sequence_features = sequence_encode[train_indices]\n",
    "test_sequence_features = sequence_encode[test_indices]\n",
    "\n",
    "train_y = y_encode[train_indices]\n",
    "test_y = y_encode[test_indices]\n",
    "\n",
    "train_duration_embedding = duration_embedding_encode[train_indices]\n",
    "test_duration_embedding = duration_embedding_encode[test_indices]\n",
    "\n",
    "train_feature_embedding = feature_embedding_encode[train_indices]\n",
    "test_feature_embedding = feature_embedding_encode[test_indices]\n",
    "\n",
    "train_verb_encode = verb_encode[train_indices]\n",
    "train_dec_encode = dec_encode[train_indices]\n",
    "\n",
    "test_verb_encode = verb_encode[test_indices]\n",
    "test_dec_encode = dec_encode[test_indices]"
   ]
  },
  {
   "cell_type": "code",
   "execution_count": null,
   "id": "8625a99b-17c5-4911-b123-698eaab32ad5",
   "metadata": {},
   "outputs": [],
   "source": [
    "# Include batch size as a hyperparameter to be tuned\n",
    "hp_b = HyperParameters()\n",
    "batch_size = hp_b.Choice('batch_size', values=[16, 32, 64, 128])"
   ]
  },
  {
   "cell_type": "code",
   "execution_count": null,
   "id": "8cf2bda7-b778-42a5-bd3c-9466fdea78f6",
   "metadata": {},
   "outputs": [],
   "source": [
    "#Initialize the hypermodel\n",
    "hypermodel = TextFeatureDurationEmbeddingLSTMModel(sequence_size = sequence_size, \n",
    "                                                   verb_size = verb_size, \n",
    "                                                   dec_size = dec_size,\n",
    "                                                   event_input_shape = event_input_shape,\n",
    "                                                   num_sequence_features = num_sequence_features,\n",
    "                                                   feature_embedding_shape = feature_embedding_shape,\n",
    "                                                   duration_embedding_shape = duration_embedding_shape,\n",
    "                                                   num_classes=num_classes)\n",
    "\n",
    "early_stopping = EarlyStopping(monitor='val_f1_score',  \n",
    "                               mode='max',\n",
    "                               patience=5, \n",
    "                               restore_best_weights=True)\n",
    "\n",
    "tuner_band = Hyperband(hypermodel,\n",
    "                       objective=kt.Objective(\"val_f1_score\", direction=\"max\"),\n",
    "                       max_epochs=200,\n",
    "                       factor=3,\n",
    "                       directory='hparam_tuning',\n",
    "                       overwrite=False, #if resume tuner, keep overwrite = False\n",
    "                       project_name='classfication_feature_text_hyperband_im',\n",
    "                       hyperparameters=hp_b)\n",
    "\n",
    "# Use the manually split data in the search\n",
    "tuner_band.search(x=[train_verb_encode, train_dec_encode, train_event_features, train_feature_embedding, train_duration_embedding, train_sequence_features], y=train_y, \n",
    "                  validation_data=([test_verb_encode, test_dec_encode, test_event_features, test_feature_embedding, test_duration_embedding, test_sequence_features], test_y), \n",
    "                  epochs=200, callbacks=[early_stopping])\n",
    "\n",
    "# Get the optimal hyperparameters\n",
    "best_hps_band = tuner_band.get_best_hyperparameters(num_trials=1)[0]\n",
    "\n",
    "# Get the best model\n",
    "best_model_band = tuner_band.get_best_models(num_models=1)[0]"
   ]
  },
  {
   "cell_type": "code",
   "execution_count": null,
   "id": "5a186e3a-faee-46b2-bcf7-8a633f2a9096",
   "metadata": {},
   "outputs": [],
   "source": [
    "# Get predictions\n",
    "y_pred_probs = best_model_band.predict([test_verb_encode, test_dec_encode, test_event_features, test_feature_embedding, test_duration_embedding, test_sequence_features])\n",
    "y_pred = np.argmax(y_pred_probs, axis=1)  # Convert to class indices\n",
    "y_true = np.argmax(test_y, axis=1)\n",
    "\n",
    "# Compute Confusion Matrix\n",
    "conf_matrix = confusion_matrix(y_true, y_pred)\n",
    "print(\"Confusion Matrix:\")\n",
    "print(conf_matrix)\n",
    "\n",
    "# Compute Classification Report\n",
    "class_report = classification_report(y_true, y_pred, digits=4)\n",
    "print(\"Classification Report:\")\n",
    "print(class_report)"
   ]
  },
  {
   "cell_type": "code",
   "execution_count": null,
   "id": "65981a2c-2121-438e-9da7-ecbe3217e699",
   "metadata": {},
   "outputs": [],
   "source": [
    "# alternatively, build the model with the optimal hyperparameters \n",
    "# best_model_band  = band_tuner.hypermodel.build(best_hps_band)\n",
    "history_band = best_model_band.fit(x=[train_verb_encode, train_dec_encode, train_event_features, train_feature_embedding, train_duration_embedding, train_sequence_features], y=train_y, \n",
    "                                   validation_data=([test_verb_encode, test_dec_encode, test_event_features, test_feature_embedding, test_duration_embedding, test_sequence_features], test_y), \n",
    "                                   epochs=5, batch_size=best_hps_band.get('batch_size'), callbacks=[early_stopping])\n",
    "\n",
    "val_acc_per_epoch_band = history_band.history['val_f1_score']\n",
    "best_epoch_band = val_acc_per_epoch_band.index(max(val_acc_per_epoch_band)) + 1\n",
    "print('Best epoch: %d' % (best_epoch_band,))\n",
    "print('Best F1 Score: ', max(val_acc_per_epoch_band))\n",
    "\n",
    "print_best_hp_duration_text(best_hps_band)"
   ]
  },
  {
   "cell_type": "code",
   "execution_count": null,
   "id": "81543f91-5e00-407e-8130-f7e8467f0b8e",
   "metadata": {},
   "outputs": [],
   "source": []
  }
 ],
 "metadata": {
  "kernelspec": {
   "display_name": "Python 3 (ipykernel)",
   "language": "python",
   "name": "python3"
  },
  "language_info": {
   "codemirror_mode": {
    "name": "ipython",
    "version": 3
   },
   "file_extension": ".py",
   "mimetype": "text/x-python",
   "name": "python",
   "nbconvert_exporter": "python",
   "pygments_lexer": "ipython3",
   "version": "3.11.9"
  }
 },
 "nbformat": 4,
 "nbformat_minor": 5
}
