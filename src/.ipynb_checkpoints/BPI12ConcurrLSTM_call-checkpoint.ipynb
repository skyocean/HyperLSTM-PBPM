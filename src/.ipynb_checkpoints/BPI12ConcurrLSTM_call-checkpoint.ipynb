{
 "cells": [
  {
   "cell_type": "code",
   "execution_count": null,
   "id": "270b9b40-830d-45cf-ba74-c96a6ceb6e87",
   "metadata": {},
   "outputs": [],
   "source": [
    "%reload_ext autoreload\n",
    "%autoreload 2\n",
    "import pandas as pd\n",
    "import numpy as np\n",
    "\n",
    "from datetime import datetime, timedelta\n",
    "\n",
    "import tensorflow as tf\n",
    "from tensorflow import keras\n",
    "import keras_tuner as kt\n",
    "from keras_tuner import RandomSearch, HyperModel, Hyperband, HyperParameters\n",
    "from tensorflow.keras.callbacks import EarlyStopping\n",
    "\n",
    "from DataEncoder import encode_pad_event_concurr, encode_pad_sequence, encode_y\n",
    "from BaseLSTM import BaseLSTMModel, print_best_hp\n",
    "from sklearn.model_selection import train_test_split\n",
    "from sklearn.metrics import confusion_matrix, classification_report"
   ]
  },
  {
   "cell_type": "code",
   "execution_count": null,
   "id": "bc33c0e1-3f2c-498d-b1e1-ac11f2cc6eba",
   "metadata": {
    "scrolled": true
   },
   "outputs": [],
   "source": [
    "event = pd.read_csv(\"../input/BPI12f_Combin_Feature.csv\")"
   ]
  },
  {
   "cell_type": "code",
   "execution_count": null,
   "id": "c06cb222-5b81-472f-9d3c-6368a408a713",
   "metadata": {},
   "outputs": [],
   "source": [
    "sequence = event[['case:concept:name','case:AMOUNT_REQ','result']].groupby(['case:concept:name']).first()\n",
    "sequence = sequence.reset_index()"
   ]
  },
  {
   "cell_type": "code",
   "execution_count": null,
   "id": "d5035b50-2b2c-49e2-b297-1448450feadc",
   "metadata": {},
   "outputs": [],
   "source": [
    "cat_col_event = ['pre_activity', 'StartRes']\n",
    "num_col_event = ['Duration']\n",
    "case_index = 'case:concept:name'\n",
    "start_time_col = 'StartTime'\n",
    "\n",
    "event_encode = encode_pad_event_concurr(event, cat_col_event, num_col_event, case_index, start_time_col, cat_mask = True, num_mask = True, eos = False)"
   ]
  },
  {
   "cell_type": "code",
   "execution_count": null,
   "id": "c1c23652-dce0-45f0-8ca7-f3d5f956737b",
   "metadata": {},
   "outputs": [],
   "source": [
    "cat_col_seq = []\n",
    "num_col_seq = ['case:AMOUNT_REQ']\n",
    "sequence_encode = encode_pad_sequence(sequence, cat_col_seq, num_col_seq)"
   ]
  },
  {
   "cell_type": "code",
   "execution_count": null,
   "id": "1256af3f-18d9-4100-a3a0-25ed9a7fa897",
   "metadata": {},
   "outputs": [],
   "source": [
    "y_col = sequence.result\n",
    "y_encode = encode_y(y_col)"
   ]
  },
  {
   "cell_type": "code",
   "execution_count": null,
   "id": "9de4c4ff-9d99-4058-ad31-b83418b7503a",
   "metadata": {},
   "outputs": [],
   "source": [
    "# Define the input shape (sequence_length, number_of_features)\n",
    "event_input_shape = (event_encode.shape[1], event_encode.shape[2])\n",
    "\n",
    "# Define the number of classes \n",
    "num_classes = y_encode.shape[1]\n",
    "\n",
    "# number of sequence features\n",
    "num_sequence_features = sequence_encode.shape[1]"
   ]
  },
  {
   "cell_type": "code",
   "execution_count": null,
   "id": "66c0ea66-00d5-4f02-9080-565902d4947f",
   "metadata": {},
   "outputs": [],
   "source": [
    " # Include batch size as a hyperparameter to be tuned\n",
    "hp_b = HyperParameters()\n",
    "batch_size = hp_b.Choice('batch_size', values=[16, 32, 64, 128])"
   ]
  },
  {
   "cell_type": "code",
   "execution_count": null,
   "id": "8cf2bda7-b778-42a5-bd3c-9466fdea78f6",
   "metadata": {},
   "outputs": [],
   "source": [
    "#Initialize the hypermodel\n",
    "hypermodel = BaseLSTMModel(event_input_shape=event_input_shape,\n",
    "                            num_sequence_features= num_sequence_features,\n",
    "                            num_classes=num_classes)\n",
    "early_stopping = EarlyStopping(monitor='val_loss', patience= 3, restore_best_weights=True)"
   ]
  },
  {
   "cell_type": "code",
   "execution_count": null,
   "id": "e56108a7",
   "metadata": {},
   "outputs": [],
   "source": [
    "tuner_band = Hyperband(hypermodel,\n",
    "                       objective='val_accuracy',\n",
    "                       max_epochs=200,\n",
    "                       factor=3,\n",
    "                       directory='hparam_tuning',\n",
    "                       overwrite=False, #if resume tuner, keep overwrite = False\n",
    "                       project_name='classfication_2levelfeature_bpi12',\n",
    "                       hyperparameters=hp_b)\n",
    "\n",
    "tuner_band.search(x=[event_encode, sequence_encode], y = y_encode,\\\n",
    "                  epochs=200, validation_split=0.2, callbacks=[early_stopping])\n",
    "\n",
    "# Get the optimal hyperparameters\n",
    "best_hps_band = tuner_band.get_best_hyperparameters(num_trials=1)[0]\n",
    "\n",
    "# Get the best model\n",
    "best_model_band = tuner_band.get_best_models(num_models=1)[0]\n"
   ]
  },
  {
   "cell_type": "code",
   "execution_count": null,
   "id": "c3cab62d-1372-45bf-821d-884f231e8118",
   "metadata": {},
   "outputs": [],
   "source": [
    "# alternatively, build the model with the optimal hyperparameters \n",
    "# best_model_band  = band_tuner.hypermodel.build(best_hps_band)\n",
    "history_band = best_model_band.fit([event_encode, sequence_encode],y_encode, epochs=200, batch_size=best_hps_band.get('batch_size'), validation_split=0.2, callbacks=[early_stopping])\n",
    "\n",
    "val_acc_per_epoch_band = history_band.history['val_accuracy']\n",
    "best_epoch_band = val_acc_per_epoch_band.index(max(val_acc_per_epoch_band)) + 1\n",
    "print('Best epoch: %d' % (best_epoch_band,))\n",
    "print('Best Accuracy: ', max(val_acc_per_epoch_band))\n",
    "\n",
    "# Evaluate the best model\n",
    "#loss, accuracy = best_model_band.evaluate([event_encode, sequence_encode],y_encode)\n",
    "#print('Test accuracy:', accuracy)\n",
    "\n",
    "print_best_hp(best_hps_band)"
   ]
  }
 ],
 "metadata": {
  "kernelspec": {
   "display_name": "Python 3 (ipykernel)",
   "language": "python",
   "name": "python3"
  },
  "language_info": {
   "codemirror_mode": {
    "name": "ipython",
    "version": 3
   },
   "file_extension": ".py",
   "mimetype": "text/x-python",
   "name": "python",
   "nbconvert_exporter": "python",
   "pygments_lexer": "ipython3",
   "version": "3.11.9"
  }
 },
 "nbformat": 4,
 "nbformat_minor": 5
}
