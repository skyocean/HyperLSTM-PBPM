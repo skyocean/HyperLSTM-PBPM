{
 "cells": [
  {
   "cell_type": "code",
   "execution_count": 1,
   "id": "461b4373-02d8-4a18-a3f0-66b597905fa6",
   "metadata": {},
   "outputs": [],
   "source": [
    "import pandas as pd\n",
    "import numpy as np\n",
    "from datetime import datetime, timedelta\n",
    "from sklearn.preprocessing import MinMaxScaler\n",
    "from sklearn.feature_extraction.text import TfidfVectorizer\n",
    "import tensorflow as tf\n",
    "from tensorflow import keras\n",
    "from tensorflow.keras.preprocessing.sequence import pad_sequences\n",
    "from FeatureEmbedding import tfidf_embedding_features"
   ]
  },
  {
   "cell_type": "code",
   "execution_count": 2,
   "id": "0f7a487c-8556-4b6b-8c4f-819f390a6c64",
   "metadata": {},
   "outputs": [],
   "source": [
    "event = pd.read_csv(\"../input/Event_Feature_pro.csv\")"
   ]
  },
  {
   "cell_type": "code",
   "execution_count": 3,
   "id": "e99a22a4-8b90-406a-8bc8-b34b23403ee9",
   "metadata": {},
   "outputs": [],
   "source": [
    "event['dummyf'] = '<NO_DESC>'\n",
    "feature_embedding = event[['Case ID', 'Activity_code', 'dummyf', 'Resource']].copy()"
   ]
  },
  {
   "cell_type": "code",
   "execution_count": 4,
   "id": "f014b7ad-c09f-40b2-b37c-d3aa7b54f7da",
   "metadata": {},
   "outputs": [],
   "source": [
    "feature_embedding= tfidf_embedding_features(feature_embedding, 'Case ID', 'Activity_code', ['Resource', 'dummyf'], '_', '<NO_DESC>')"
   ]
  },
  {
   "cell_type": "code",
   "execution_count": 5,
   "id": "bf8b4064-9509-4030-b40a-0906dda8d384",
   "metadata": {},
   "outputs": [],
   "source": [
    "feature_embedding.to_csv(\"../output/Event_feature_Embedding_pro.csv\", index = False)"
   ]
  },
  {
   "cell_type": "code",
   "execution_count": null,
   "id": "acd8ac3b-a603-48f3-88df-e2f0ce132934",
   "metadata": {},
   "outputs": [],
   "source": []
  }
 ],
 "metadata": {
  "kernelspec": {
   "display_name": "Python 3 (ipykernel)",
   "language": "python",
   "name": "python3"
  },
  "language_info": {
   "codemirror_mode": {
    "name": "ipython",
    "version": 3
   },
   "file_extension": ".py",
   "mimetype": "text/x-python",
   "name": "python",
   "nbconvert_exporter": "python",
   "pygments_lexer": "ipython3",
   "version": "3.11.9"
  }
 },
 "nbformat": 4,
 "nbformat_minor": 5
}
