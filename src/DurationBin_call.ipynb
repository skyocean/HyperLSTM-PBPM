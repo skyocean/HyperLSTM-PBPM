{
 "cells": [
  {
   "cell_type": "code",
   "execution_count": 2,
   "id": "f4784ca8-f243-4602-b442-13bfa2f1a262",
   "metadata": {},
   "outputs": [],
   "source": [
    "%load_ext autoreload\n",
    "%autoreload 2\n",
    "import pandas as pd\n",
    "import numpy as np\n",
    "from datetime import datetime, timedelta\n",
    "#from sklearn.preprocessing import OneHotEncoder, MinMaxScaler, LabelEncoder\n",
    "#from sklearn.feature_extraction.text import TfidfVectorizer\n",
    "from DurationEmbedding import bin_cutoff, tfidf_embedding, pseudo_embedding_pipeline_two_phase, enhanced_auto_binning_pipeline, smart_auto_binning_pipeline"
   ]
  },
  {
   "cell_type": "code",
   "execution_count": 3,
   "id": "e89d03d2-08e3-453f-b420-679b68d779c3",
   "metadata": {},
   "outputs": [],
   "source": [
    "event = pd.read_csv(\"../input/Event_Feature_pro.csv\")"
   ]
  },
  {
   "cell_type": "code",
   "execution_count": 4,
   "id": "170773e1-4c12-49a9-9720-0e5d59db40b2",
   "metadata": {
    "scrolled": true
   },
   "outputs": [],
   "source": [
    "event_embedding = event[['Case ID', 'Start Timestamp', 'Activity_code', 'duration']].copy()\n",
    "#event_embedding = event[['case:concept:name', 'StartTime', 'pre_activity', 'Duration']].copy()\n",
    "event_embedding.loc[:,'duration_min'] = np.ceil(event_embedding['duration']/60)"
   ]
  },
  {
   "cell_type": "code",
   "execution_count": 6,
   "id": "ba6cd3f8-2987-4236-9266-c5d3cbc439c3",
   "metadata": {},
   "outputs": [
    {
     "name": "stdout",
     "output_type": "stream",
     "text": [
      "bin\n",
      "0       9091\n",
      "1        452\n",
      "1011     168\n",
      "1086     170\n",
      "1166     174\n",
      "1237     165\n",
      "1296     169\n",
      "1355     169\n",
      "1419     170\n",
      "1472     172\n",
      "1536     168\n",
      "1607     172\n",
      "1678     165\n",
      "1753     170\n",
      "1834     169\n",
      "1918     170\n",
      "2        723\n",
      "2032     169\n",
      "2198     169\n",
      "2578     170\n",
      "3        454\n",
      "4        134\n",
      "5        170\n",
      "5108     169\n",
      "624      170\n",
      "6359     170\n",
      "793      169\n",
      "917      170\n",
      "Name: count, dtype: int64\n",
      "Cut-off values for bins:\n",
      "[5, 624)\n",
      "[624, 793)\n",
      "[793, 917)\n",
      "[917, 1011)\n",
      "[1011, 1086)\n",
      "[1086, 1166)\n",
      "[1166, 1237)\n",
      "[1237, 1296)\n",
      "[1296, 1355)\n",
      "[1355, 1419)\n",
      "[1419, 1472)\n",
      "[1472, 1536)\n",
      "[1536, 1607)\n",
      "[1607, 1678)\n",
      "[1678, 1753)\n",
      "[1753, 1834)\n",
      "[1834, 1918)\n",
      "[1918, 2032)\n",
      "[2032, 2198)\n",
      "[2198, 2578)\n",
      "[2578, 5108)\n",
      "[5108, 6359)\n",
      "[6359, 10742)\n"
     ]
    }
   ],
   "source": [
    "# this is for manu cut\n",
    "event_embedding = bin_cutoff(event_embedding, 'duration_min', 5,24)"
   ]
  },
  {
   "cell_type": "code",
   "execution_count": null,
   "id": "c04dfe14-9b97-4828-8291-e3efe0679c4a",
   "metadata": {},
   "outputs": [],
   "source": [
    "#Semi-automatic (shows analysis)\n",
    "event_embedding = pseudo_embedding_pipeline_two_phase(event_embedding, 'duration_min', optimize=True)"
   ]
  },
  {
   "cell_type": "code",
   "execution_count": null,
   "id": "57f58318-6a22-4024-be59-b37f0e114502",
   "metadata": {},
   "outputs": [],
   "source": [
    "#hard manu cut\n",
    "event_embedding = pseudo_embedding_pipeline_two_phase(event_embedding, 'duration_min', t_cut=5, q_bins=23)"
   ]
  },
  {
   "cell_type": "code",
   "execution_count": null,
   "id": "6e6a960d-344a-4231-9c26-f67642f6d4f3",
   "metadata": {},
   "outputs": [],
   "source": [
    "# count for zero problem and distribution, completely auto -> prefer\n",
    "event_embedding = enhanced_auto_binning_pipeline(event_embedding, 'duration_min')"
   ]
  },
  {
   "cell_type": "code",
   "execution_count": null,
   "id": "83e3541b-546a-48fc-95f4-90aba099affb",
   "metadata": {},
   "outputs": [],
   "source": [
    "# Step 1: Let the system analyze and decide\n",
    "#event_embedding, analysis = smart_auto_binning_pipeline(event_embedding, 'duration_min')\n",
    "_, analysis = smart_auto_binning_pipeline(event_embedding, 'duration_min')\n",
    "\n",
    "# See what it detected and why\n",
    "print(\"Detected pattern:\", analysis['strategy'])\n",
    "print(\"Small value cutoff:\", analysis['detected_small_cutoff']) \n",
    "print(\"Reasoning:\", analysis['reasoning'])"
   ]
  },
  {
   "cell_type": "code",
   "execution_count": 10,
   "id": "069e78fb-923e-407b-b7a2-bef5d5eac8ec",
   "metadata": {},
   "outputs": [],
   "source": [
    "#event_embedding = tfidf_embedding(event_embedding, \"Case ID\", \"Activity_code\", \"bin\")\n",
    "event_embedding = tfidf_embedding(event_embedding, \"case:concept:name\", \"pre_activity\", \"bin\")"
   ]
  },
  {
   "cell_type": "code",
   "execution_count": 12,
   "id": "9330c266-f06f-43fd-84a6-54a2fd2234fe",
   "metadata": {},
   "outputs": [],
   "source": [
    "event_embedding.to_csv(\"../output/Event_Duration_Embedding_pro.csv\", index = False)"
   ]
  },
  {
   "cell_type": "code",
   "execution_count": null,
   "id": "847873d9-daa1-4b3c-a68e-c4f2a9bc729d",
   "metadata": {},
   "outputs": [],
   "source": []
  }
 ],
 "metadata": {
  "kernelspec": {
   "display_name": "Python 3 (ipykernel)",
   "language": "python",
   "name": "python3"
  },
  "language_info": {
   "codemirror_mode": {
    "name": "ipython",
    "version": 3
   },
   "file_extension": ".py",
   "mimetype": "text/x-python",
   "name": "python",
   "nbconvert_exporter": "python",
   "pygments_lexer": "ipython3",
   "version": "3.11.9"
  }
 },
 "nbformat": 4,
 "nbformat_minor": 5
}
