{
 "cells": [
  {
   "cell_type": "code",
   "execution_count": null,
   "id": "270b9b40-830d-45cf-ba74-c96a6ceb6e87",
   "metadata": {},
   "outputs": [],
   "source": [
    "%reload_ext autoreload\n",
    "%autoreload 2 \n",
    "import pandas as pd\n",
    "import numpy as np\n",
    "import keras_tuner as kt\n",
    "from keras_tuner import RandomSearch, HyperModel, Hyperband, HyperParameters\n",
    "from tensorflow.keras.callbacks import EarlyStopping\n",
    "\n",
    "from DataEncoder import encode_pad_event, encode_pad_sequence, encode_y\n",
    "from DurationEmbedding import duration_embedding_layer\n",
    "from FeatureEmbedding import feature_embedding_layer\n",
    "from DurationEmbeddingLSTMIm import DurationEmbeddingLSTMModel, print_best_hp_duration\n",
    "from FeatureDurationEmbeddingLSTMIm import FeatureDurationEmbeddingLSTMModel, print_best_hp_duration_feature\n",
    "\n",
    "from sklearn.model_selection import train_test_split\n",
    "from sklearn.metrics import confusion_matrix, classification_report"
   ]
  },
  {
   "cell_type": "code",
   "execution_count": null,
   "id": "bc33c0e1-3f2c-498d-b1e1-ac11f2cc6eba",
   "metadata": {},
   "outputs": [],
   "source": [
    "event = pd.read_csv(\"../input/Event_Feature_pro.csv\")\n",
    "sequence = pd.read_csv(\"../input/Sequence_Feature_pro.csv\")\n",
    "event_duration_embedding = pd.read_csv(\"../output/Event_Duration_Embedding_pro.csv\")\n",
    "event_feature_embedding = pd.read_csv(\"../output/Event_feature_Embedding_pro.csv\")"
   ]
  },
  {
   "cell_type": "code",
   "execution_count": null,
   "id": "b42c468e-a085-420f-81b8-7b8407f89824",
   "metadata": {},
   "outputs": [],
   "source": [
    "y_col = sequence.result\n",
    "y_encode = encode_y(y_col)"
   ]
  },
  {
   "cell_type": "code",
   "execution_count": null,
   "id": "af0a6672-59b9-42be-a400-075751571421",
   "metadata": {},
   "outputs": [],
   "source": [
    "cat_col_event = ['Activity_verb', 'Activity_Dec', 'Resource', 'outcome', \"stopcode\"]\n",
    "num_col_event = ['net_promotor_score', 'creditscore', 'rate_charged']\n",
    "case_index = 'Case ID'\n",
    "\n",
    "event_encode = encode_pad_event(event, cat_col_event, num_col_event, case_index, cat_mask = True, num_mask = True, eos = False)"
   ]
  },
  {
   "cell_type": "code",
   "execution_count": null,
   "id": "3a086ae1-ee2a-48f9-99c7-ffc9250c56a9",
   "metadata": {},
   "outputs": [],
   "source": [
    "cat_col_seq = ['plan']\n",
    "num_col_seq = ['age', 'coverage_numeric', 'length_of_stay']\n",
    "sequence_encode = encode_pad_sequence(sequence, cat_col_seq, num_col_seq,  cat_mask = False, num_mask = False)"
   ]
  },
  {
   "cell_type": "code",
   "execution_count": null,
   "id": "aac51723-b21f-41d1-b2a3-a9ce00ef9a3d",
   "metadata": {},
   "outputs": [],
   "source": [
    "event_duration_embedding_names = event_duration_embedding.columns.to_list()\n",
    "embedding_duration_cols_names = event_duration_embedding_names[7:]\n",
    "duration_embedding_encode = duration_embedding_layer(event_duration_embedding, embedding_duration_cols_names, case_index, eos = False)"
   ]
  },
  {
   "cell_type": "markdown",
   "id": "b8fb8efa-ae47-4908-9835-172808eb2723",
   "metadata": {},
   "source": [
    "Event feature embedding process"
   ]
  },
  {
   "cell_type": "code",
   "execution_count": null,
   "id": "a680f59a-b79f-469e-888b-fbf26cb76c91",
   "metadata": {},
   "outputs": [],
   "source": [
    "event_feature_embedding_names = event_feature_embedding.columns.to_list()\n",
    "embedding_feature_cols_names = event_feature_embedding_names[5:]\n",
    "feature_embedding_encode = feature_embedding_layer(event_feature_embedding, embedding_feature_cols_names, case_index, eos = False)"
   ]
  },
  {
   "cell_type": "code",
   "execution_count": null,
   "id": "f3dbda86-8221-41a7-89a2-6c5f34eda9b3",
   "metadata": {},
   "outputs": [],
   "source": [
    "# Define the input shape (sequence_length, number_of_features)\n",
    "event_input_shape = (event_encode.shape[1], event_encode.shape[2])\n",
    "\n",
    "# Define the number of classes \n",
    "num_classes = y_encode.shape[1]\n",
    "\n",
    "# number of sequence features\n",
    "num_sequence_features = sequence_encode.shape[1]\n",
    "\n",
    "duration_embedding_shape = (duration_embedding_encode.shape[1], duration_embedding_encode.shape[2])\n",
    "feature_embedding_shape = (feature_embedding_encode.shape[1], feature_embedding_encode.shape[2])"
   ]
  },
  {
   "cell_type": "code",
   "execution_count": null,
   "id": "8625a99b-17c5-4911-b123-698eaab32ad5",
   "metadata": {},
   "outputs": [],
   "source": [
    "# Include batch size as a hyperparameter to be tuned\n",
    "hp_b = HyperParameters()\n",
    "batch_size = hp_b.Choice('batch_size', values=[16, 32, 64, 128])"
   ]
  },
  {
   "cell_type": "code",
   "execution_count": null,
   "id": "4418cecd-67ea-4bf5-a908-8d091ef172be",
   "metadata": {},
   "outputs": [],
   "source": [
    "# Split indices for train and test\n",
    "train_indices, test_indices = train_test_split(np.arange(len(y_encode)), test_size=0.2, stratify=y_encode, random_state=42)\n",
    "\n",
    "# Split the data\n",
    "train_event_features = event_encode[train_indices]\n",
    "test_event_features = event_encode[test_indices]\n",
    "\n",
    "train_sequence_features = sequence_encode[train_indices]\n",
    "test_sequence_features = sequence_encode[test_indices]\n",
    "\n",
    "train_y = y_encode[train_indices]\n",
    "test_y = y_encode[test_indices]\n",
    "\n",
    "train_duration_embedding = duration_embedding_encode[train_indices]\n",
    "test_duration_embedding = duration_embedding_encode[test_indices]\n",
    "\n",
    "train_feature_embedding = feature_embedding_encode[train_indices]\n",
    "test_feature_embedding = feature_embedding_encode[test_indices]"
   ]
  },
  {
   "cell_type": "markdown",
   "id": "76e741d0-73fa-42eb-8a83-b8a19972c6d2",
   "metadata": {},
   "source": [
    "Duration Model"
   ]
  },
  {
   "cell_type": "code",
   "execution_count": null,
   "id": "2b3fb9a5-beda-4b23-a61d-8b41ebd83c6c",
   "metadata": {},
   "outputs": [],
   "source": [
    "#Initialize the hypermodel\n",
    "hypermodel = DurationEmbeddingLSTMModel(event_input_shape = event_input_shape,\n",
    "                                        num_sequence_features = num_sequence_features,\n",
    "                                        duration_embedding_shape = duration_embedding_shape,\n",
    "                                        num_classes=num_classes)\n",
    "\n",
    "early_stopping = EarlyStopping(monitor='val_f1_score',  \n",
    "                               mode='max',\n",
    "                               patience=5, \n",
    "                               restore_best_weights=True)\n",
    "\n",
    "tuner_band = Hyperband(hypermodel,\n",
    "                       objective=kt.Objective(\"val_f1_score\", direction=\"max\"),\n",
    "                       max_epochs=200,\n",
    "                       factor=3,\n",
    "                       directory='hparam_tuning',\n",
    "                       overwrite=False, #if resume tuner, keep overwrite = False\n",
    "                       project_name='classfication_duration_embedding_im',\n",
    "                       hyperparameters=hp_b)\n",
    "\n",
    "# Use the manually split data in the search\n",
    "tuner_band.search(x=[train_event_features, train_duration_embedding, train_sequence_features], y=train_y, \n",
    "                  validation_data=([test_event_features, test_duration_embedding, test_sequence_features], test_y), \n",
    "                  epochs=200, callbacks=[early_stopping])\n",
    "\n",
    "# Get the optimal hyperparameters\n",
    "best_hps_band = tuner_band.get_best_hyperparameters(num_trials=1)[0]\n",
    "\n",
    "# Get the best model\n",
    "best_model_band = tuner_band.get_best_models(num_models=1)[0]"
   ]
  },
  {
   "cell_type": "code",
   "execution_count": null,
   "id": "09a77396-115e-49f3-bbb5-da526f59ff78",
   "metadata": {},
   "outputs": [],
   "source": [
    "# Get predictions\n",
    "y_pred_probs = best_model_band.predict([test_event_features, test_duration_embedding, test_sequence_features])\n",
    "y_pred = np.argmax(y_pred_probs, axis=1)  # Convert to class indices\n",
    "y_true = np.argmax(test_y, axis=1)\n",
    "\n",
    "# Compute Confusion Matrix\n",
    "conf_matrix = confusion_matrix(y_true, y_pred)\n",
    "print(\"Confusion Matrix:\")\n",
    "print(conf_matrix)\n",
    "\n",
    "# Compute Classification Report\n",
    "class_report = classification_report(y_true, y_pred, digits=4)\n",
    "print(\"Classification Report:\")\n",
    "print(class_report)"
   ]
  },
  {
   "cell_type": "code",
   "execution_count": null,
   "id": "7bca65f5-babb-41a4-a0ad-4c0fe77bbd87",
   "metadata": {},
   "outputs": [],
   "source": [
    "# alternatively, build the model with the optimal hyperparameters \n",
    "# best_model_band  = band_tuner.hypermodel.build(best_hps_band)\n",
    "history_band = best_model_band.fit(x=[train_event_features, train_duration_embedding, train_sequence_features], y=train_y, \n",
    "                                   validation_data=([test_event_features, test_duration_embedding, test_sequence_features], test_y), \n",
    "                                   epochs=200, batch_size=best_hps_band.get('batch_size'), callbacks=[early_stopping])\n",
    "\n",
    "val_acc_per_epoch_band = history_band.history['val_f1_score']\n",
    "best_epoch_band = val_acc_per_epoch_band.index(max(val_acc_per_epoch_band)) + 1\n",
    "print('Best epoch: %d' % (best_epoch_band,))\n",
    "print('Best F1 Score: ', max(val_acc_per_epoch_band))\n",
    "# Evaluate the best model\n",
    "#loss, accuracy = best_model_band.evaluate([event_encode, sequence_encode],y_encode)\n",
    "#print('Test accuracy:', accuracy)\n",
    "print_best_hp_duration(best_hps_band)"
   ]
  },
  {
   "cell_type": "markdown",
   "id": "0add0da0-5eaa-4aa0-8fc0-d8324fc85ebc",
   "metadata": {},
   "source": [
    "Duration Feature model"
   ]
  },
  {
   "cell_type": "code",
   "execution_count": null,
   "id": "8cf2bda7-b778-42a5-bd3c-9466fdea78f6",
   "metadata": {},
   "outputs": [],
   "source": [
    "#Initialize the hypermodel\n",
    "hypermodel = FeatureDurationEmbeddingLSTMModel(event_input_shape = event_input_shape,\n",
    "                                        num_sequence_features = num_sequence_features,\n",
    "                                        feature_embedding_shape = feature_embedding_shape,\n",
    "                                        duration_embedding_shape = duration_embedding_shape,\n",
    "                                        num_classes=num_classes)\n",
    "\n",
    "early_stopping = EarlyStopping(monitor='val_f1_score',  \n",
    "                               mode='max',\n",
    "                               patience=5, \n",
    "                               restore_best_weights=True)\n",
    "\n",
    "tuner_band = Hyperband(hypermodel,\n",
    "                       objective=kt.Objective(\"val_f1_score\", direction=\"max\"),\n",
    "                       max_epochs=200,\n",
    "                       factor=3,\n",
    "                       directory='hparam_tuning',\n",
    "                       overwrite=False, #if resume tuner, keep overwrite = False\n",
    "                       project_name='classfication_feature_embedding_im',\n",
    "                       hyperparameters=hp_b)\n",
    "\n",
    "# Use the manually split data in the search\n",
    "tuner_band.search(x=[train_event_features, train_feature_embedding, train_duration_embedding, train_sequence_features], y=train_y, \n",
    "                  validation_data=([test_event_features, test_feature_embedding, test_duration_embedding, test_sequence_features], test_y), \n",
    "                  epochs=200, callbacks=[early_stopping])\n",
    "\n",
    "# Get the optimal hyperparameters\n",
    "best_hps_band = tuner_band.get_best_hyperparameters(num_trials=1)[0]\n",
    "\n",
    "# Get the best model\n",
    "best_model_band = tuner_band.get_best_models(num_models=1)[0]\n"
   ]
  },
  {
   "cell_type": "code",
   "execution_count": null,
   "id": "19cdf965-f550-477a-a7c2-8c7834675cab",
   "metadata": {},
   "outputs": [],
   "source": [
    "# Get predictions\n",
    "y_pred_probs = best_model_band.predict([test_event_features, test_feature_embedding, test_duration_embedding, test_sequence_features])\n",
    "y_pred = np.argmax(y_pred_probs, axis=1)  # Convert to class indices\n",
    "y_true = np.argmax(test_y, axis=1)\n",
    "\n",
    "# Compute Confusion Matrix\n",
    "conf_matrix = confusion_matrix(y_true, y_pred)\n",
    "print(\"Confusion Matrix:\")\n",
    "print(conf_matrix)\n",
    "\n",
    "# Compute Classification Report\n",
    "class_report = classification_report(y_true, y_pred, digits=4)\n",
    "print(\"Classification Report:\")\n",
    "print(class_report)"
   ]
  },
  {
   "cell_type": "code",
   "execution_count": null,
   "id": "6f2a1546-fd97-430e-b920-bbbd7bb260e2",
   "metadata": {},
   "outputs": [],
   "source": [
    "# alternatively, build the model with the optimal hyperparameters \n",
    "# best_model_band  = band_tuner.hypermodel.build(best_hps_band)\n",
    "history_band = best_model_band.fit(x=[train_event_features, train_feature_embedding, train_duration_embedding, train_sequence_features], y=train_y, \n",
    "                                   validation_data=([test_event_features, test_feature_embedding, test_duration_embedding, test_sequence_features], test_y), \n",
    "                                   epochs=5, batch_size=best_hps_band.get('batch_size'), callbacks=[early_stopping])\n",
    "\n",
    "val_acc_per_epoch_band = history_band.history['val_f1_score']\n",
    "best_epoch_band = val_acc_per_epoch_band.index(max(val_acc_per_epoch_band)) + 1\n",
    "print('Best epoch: %d' % (best_epoch_band,))\n",
    "print('Best F1 Score: ', max(val_acc_per_epoch_band))\n",
    "\n",
    "print_best_hp_duration_feature(best_hps_band)"
   ]
  },
  {
   "cell_type": "code",
   "execution_count": null,
   "id": "19c4ae25-9e12-427f-a7eb-da96fdae80f8",
   "metadata": {},
   "outputs": [],
   "source": []
  }
 ],
 "metadata": {
  "kernelspec": {
   "display_name": "Python 3 (ipykernel)",
   "language": "python",
   "name": "python3"
  },
  "language_info": {
   "codemirror_mode": {
    "name": "ipython",
    "version": 3
   },
   "file_extension": ".py",
   "mimetype": "text/x-python",
   "name": "python",
   "nbconvert_exporter": "python",
   "pygments_lexer": "ipython3",
   "version": "3.11.9"
  }
 },
 "nbformat": 4,
 "nbformat_minor": 5
}
