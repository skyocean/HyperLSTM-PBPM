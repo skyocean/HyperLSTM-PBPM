{
 "cells": [
  {
   "cell_type": "code",
   "execution_count": 1,
   "id": "270b9b40-830d-45cf-ba74-c96a6ceb6e87",
   "metadata": {},
   "outputs": [],
   "source": [
    "%reload_ext autoreload\n",
    "%autoreload 2   \n",
    "import pandas as pd\n",
    "import numpy as np\n",
    "\n",
    "from datetime import datetime, timedelta\n",
    "\n",
    "from sklearn.model_selection import train_test_split\n",
    "\n",
    "import tensorflow as tf\n",
    "from tensorflow import keras\n",
    "import keras_tuner as kt\n",
    "from keras_tuner import RandomSearch, HyperModel, Hyperband, HyperParameters\n",
    "from tensorflow.keras.callbacks import EarlyStopping\n",
    "\n",
    "from DataEncoder import encode_pad_event, encode_pad_sequence, encode_y\n",
    "from BaseLSTMIm import BaseLSTMModel,print_best_hp\n",
    "\n",
    "from sklearn.model_selection import train_test_split\n",
    "from sklearn.metrics import confusion_matrix, classification_report"
   ]
  },
  {
   "cell_type": "code",
   "execution_count": 2,
   "id": "bc33c0e1-3f2c-498d-b1e1-ac11f2cc6eba",
   "metadata": {},
   "outputs": [],
   "source": [
    "event = pd.read_csv(\"../input/Event_Feature_pro.csv\")\n",
    "sequence = pd.read_csv(\"../input/Sequence_Feature_pro.csv\")"
   ]
  },
  {
   "cell_type": "code",
   "execution_count": 3,
   "id": "b42c468e-a085-420f-81b8-7b8407f89824",
   "metadata": {},
   "outputs": [],
   "source": [
    "y_col = sequence.result\n",
    "y_encode = encode_y(y_col)"
   ]
  },
  {
   "cell_type": "code",
   "execution_count": 4,
   "id": "af0a6672-59b9-42be-a400-075751571421",
   "metadata": {},
   "outputs": [],
   "source": [
    "cat_col_event = ['Activity_verb', 'Activity_Dec', 'Resource', 'outcome', \"stopcode\"]\n",
    "num_col_event = ['net_promotor_score', 'creditscore', 'rate_charged', 'duration']\n",
    "case_index = 'Case ID'\n",
    "\n",
    "event_encode = encode_pad_event(event, cat_col_event, num_col_event, case_index, cat_mask = True, num_mask = True, eos = False)"
   ]
  },
  {
   "cell_type": "code",
   "execution_count": 5,
   "id": "3a086ae1-ee2a-48f9-99c7-ffc9250c56a9",
   "metadata": {},
   "outputs": [],
   "source": [
    "cat_col_seq = ['plan']\n",
    "num_col_seq = ['age', 'coverage_numeric', 'length_of_stay']\n",
    "sequence_encode = encode_pad_sequence(sequence, cat_col_seq, num_col_seq)"
   ]
  },
  {
   "cell_type": "code",
   "execution_count": 6,
   "id": "f3dbda86-8221-41a7-89a2-6c5f34eda9b3",
   "metadata": {},
   "outputs": [],
   "source": [
    "# Define the input shape (sequence_length, number_of_features)\n",
    "event_input_shape = (event_encode.shape[1], event_encode.shape[2])\n",
    "\n",
    "# Define the number of classes \n",
    "num_classes = y_encode.shape[1]\n",
    "\n",
    "# number of sequence features\n",
    "num_sequence_features = sequence_encode.shape[1]"
   ]
  },
  {
   "cell_type": "code",
   "execution_count": 7,
   "id": "c8f98e92-94b3-41e8-af02-e748b190d443",
   "metadata": {},
   "outputs": [],
   "source": [
    "# Include batch size as a hyperparameter to be tuned\n",
    "hp_b = HyperParameters()\n",
    "batch_size = hp_b.Choice('batch_size', values=[16, 32, 64, 128])"
   ]
  },
  {
   "cell_type": "code",
   "execution_count": 8,
   "id": "7326642a-c79e-436c-8ab4-1280e1655d94",
   "metadata": {},
   "outputs": [],
   "source": [
    "# Split indices for train and test\n",
    "train_indices, test_indices = train_test_split(np.arange(len(y_encode)), test_size=0.2, stratify=y_encode, random_state=42)\n",
    "\n",
    "# Split the data\n",
    "train_event_features = event_encode[train_indices]\n",
    "test_event_features = event_encode[test_indices]\n",
    "\n",
    "train_sequence_features = sequence_encode[train_indices]\n",
    "test_sequence_features = sequence_encode[test_indices]\n",
    "\n",
    "train_y = y_encode[train_indices]\n",
    "test_y = y_encode[test_indices]"
   ]
  },
  {
   "cell_type": "code",
   "execution_count": 9,
   "id": "8cf2bda7-b778-42a5-bd3c-9466fdea78f6",
   "metadata": {},
   "outputs": [],
   "source": [
    "#Initialize the hypermodel\n",
    "hypermodel = BaseLSTMModel(event_input_shape=event_input_shape,\n",
    "                           num_sequence_features= num_sequence_features,\n",
    "                           num_classes=num_classes)"
   ]
  },
  {
   "cell_type": "code",
   "execution_count": 35,
   "id": "e56108a7",
   "metadata": {},
   "outputs": [
    {
     "name": "stdout",
     "output_type": "stream",
     "text": [
      "Trial 254 Complete [00h 00m 32s]\n",
      "val_f1_score: 0.6499903202056885\n",
      "\n",
      "Best val_f1_score So Far: 0.8655925393104553\n",
      "Total elapsed time: 01h 30m 43s\n"
     ]
    }
   ],
   "source": [
    "early_stopping = EarlyStopping(monitor='val_f1_score',  \n",
    "                               mode='max',\n",
    "                               patience=5, \n",
    "                               restore_best_weights=True)\n",
    "tuner_band = Hyperband(hypermodel,\n",
    "                       objective=kt.Objective(\"val_f1_score\", direction=\"max\"),\n",
    "                       max_epochs=200,\n",
    "                       factor=3,\n",
    "                       directory='hparam_tuning',\n",
    "                       overwrite=False, #if resume tuner, keep overwrite = False\n",
    "                       project_name='classfication_2levelfeature_hyperband_im',\n",
    "                       hyperparameters=hp_b)\n",
    "\n",
    "# Use the manually split data in the search\n",
    "tuner_band.search(x=[train_event_features, train_sequence_features], y=train_y, \n",
    "                  validation_data=([test_event_features, test_sequence_features], test_y), \n",
    "                  epochs=200, callbacks=[early_stopping])\n",
    "\n",
    "# Get the optimal hyperparameters\n",
    "best_hps_band = tuner_band.get_best_hyperparameters(num_trials=1)[0]\n",
    "\n",
    "# Get the best model\n",
    "best_model_band = tuner_band.get_best_models(num_models=1)[0]\n"
   ]
  },
  {
   "cell_type": "code",
   "execution_count": 36,
   "id": "70d1f08e-cba6-4cd6-9f75-d3738cbe66a7",
   "metadata": {},
   "outputs": [
    {
     "name": "stdout",
     "output_type": "stream",
     "text": [
      "\u001b[1m14/14\u001b[0m \u001b[32m━━━━━━━━━━━━━━━━━━━━\u001b[0m\u001b[37m\u001b[0m \u001b[1m1s\u001b[0m 34ms/step\n",
      "Confusion Matrix:\n",
      "[[ 92   0   0   0   0   0]\n",
      " [  0 174   0   0   0   0]\n",
      " [  0   0   5   0   0   0]\n",
      " [  0   0   0  21   0   0]\n",
      " [  0   4   0   0  28   0]\n",
      " [  0  45   0   0   4  55]]\n",
      "Classification Report:\n",
      "              precision    recall  f1-score   support\n",
      "\n",
      "           0     1.0000    1.0000    1.0000        92\n",
      "           1     0.7803    1.0000    0.8766       174\n",
      "           2     1.0000    1.0000    1.0000         5\n",
      "           3     1.0000    1.0000    1.0000        21\n",
      "           4     0.8750    0.8750    0.8750        32\n",
      "           5     1.0000    0.5288    0.6918       104\n",
      "\n",
      "    accuracy                         0.8762       428\n",
      "   macro avg     0.9425    0.9006    0.9072       428\n",
      "weighted avg     0.9013    0.8762    0.8656       428\n",
      "\n"
     ]
    }
   ],
   "source": [
    "# Get predictions\n",
    "y_pred_probs = best_model_band.predict([test_event_features, test_sequence_features])\n",
    "y_pred = np.argmax(y_pred_probs, axis=1)  # Convert to class indices\n",
    "y_true = np.argmax(test_y, axis=1)\n",
    "\n",
    "# Compute Confusion Matrix\n",
    "conf_matrix = confusion_matrix(y_true, y_pred)\n",
    "print(\"Confusion Matrix:\")\n",
    "print(conf_matrix)\n",
    "\n",
    "# Compute Classification Report\n",
    "class_report = classification_report(y_true, y_pred, digits=4)\n",
    "print(\"Classification Report:\")\n",
    "print(class_report)"
   ]
  },
  {
   "cell_type": "code",
   "execution_count": 10,
   "id": "2b0bcbef-633a-4168-9bde-970a3e686080",
   "metadata": {},
   "outputs": [
    {
     "name": "stdout",
     "output_type": "stream",
     "text": [
      "Reloading Tuner from hparam_tuning\\classfication_2levelfeature_hyperband_im\\tuner0.json\n",
      "Best hyperparameters found were:\n",
      "Number of LSTM layers: 2\n",
      "  LSTM Layer 0:\n",
      "    Units: 160\n",
      "    Dropout Rate: 0.4913845777963388\n",
      "    L2 Regularization: 0.00019634218681491059\n",
      "    Batch Norm Momentum: 0.81\n",
      "    Batch Norm Epsilon: 0.00033459755475717326\n",
      "  LSTM Layer 1:\n",
      "    Units: 48\n",
      "    Dropout Rate: 0.3156053994179221\n",
      "    L2 Regularization: 0.0004419772860765411\n",
      "Number of Dense layers: 1\n",
      "  Dense Layer 0:\n",
      "    Units: 144\n",
      "    Activation: relu\n",
      "    Dropout Rate: 0.4581934322370699\n",
      "    L2 Regularization: 0.0002007819160434203\n",
      "Optimizer: rmsprop\n",
      "  Learning Rate (RMSprop): 0.0027179521580834405\n",
      "Learning Rate Schedule: piecewise_constant\n",
      "Best batch size: 32\n"
     ]
    }
   ],
   "source": [
    "early_stopping = EarlyStopping(monitor='val_f1_score',  \n",
    "                               mode='max',\n",
    "                               patience=5, \n",
    "                               restore_best_weights=True)\n",
    "tuner_band = Hyperband(hypermodel,\n",
    "                       objective=kt.Objective(\"val_f1_score\", direction=\"max\"),\n",
    "                       max_epochs=200,\n",
    "                       factor=3,\n",
    "                       directory='hparam_tuning',\n",
    "                       overwrite=False, #if resume tuner, keep overwrite = False\n",
    "                       project_name='classfication_2levelfeature_hyperband_im',\n",
    "                       hyperparameters=hp_b)\n",
    "\n",
    "# Get the optimal hyperparameters\n",
    "best_hps_band = tuner_band.get_best_hyperparameters(num_trials=1)[0]\n",
    "print_best_hp(best_hps_band)\n"
   ]
  },
  {
   "cell_type": "code",
   "execution_count": null,
   "id": "9cddfa84-a7d6-46b9-88a5-2cd22e9137a1",
   "metadata": {},
   "outputs": [],
   "source": [
    "# alternatively, build the model with the optimal hyperparameters \n",
    "# best_model_band  = band_tuner.hypermodel.build(best_hps_band)\n",
    "history_band = best_model_band.fit(x=[train_event_features, train_sequence_features], y=train_y, \n",
    "                                   validation_data=([test_event_features, test_sequence_features], test_y), \n",
    "                                   epochs=200, batch_size=best_hps_band.get('batch_size'), callbacks=[early_stopping])\n",
    "\n",
    "\n",
    "val_acc_per_epoch_band = history_band.history['val_f1_score']\n",
    "best_epoch_band = val_acc_per_epoch_band.index(max(val_acc_per_epoch_band)) + 1\n",
    "print('Best epoch: %d' % (best_epoch_band,))\n",
    "print('Best F1 Score: ', max(val_acc_per_epoch_band))\n"
   ]
  },
  {
   "cell_type": "code",
   "execution_count": null,
   "id": "50dcdb5a-eda0-47cd-b54c-d91b28747d19",
   "metadata": {},
   "outputs": [],
   "source": []
  }
 ],
 "metadata": {
  "kernelspec": {
   "display_name": "Python 3 (ipykernel)",
   "language": "python",
   "name": "python3"
  },
  "language_info": {
   "codemirror_mode": {
    "name": "ipython",
    "version": 3
   },
   "file_extension": ".py",
   "mimetype": "text/x-python",
   "name": "python",
   "nbconvert_exporter": "python",
   "pygments_lexer": "ipython3",
   "version": "3.11.9"
  }
 },
 "nbformat": 4,
 "nbformat_minor": 5
}
